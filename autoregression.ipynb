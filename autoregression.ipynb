{
 "cells": [
  {
   "cell_type": "code",
   "execution_count": 19,
   "metadata": {},
   "outputs": [],
   "source": [
    "import torch\n",
    "\n",
    "import torch.nn.functional as F\n",
    "from core.tokenizers.regex import get_tokenizer\n",
    "from core.utils import get_param_count\n",
    "from core.config import device\n",
    "from core.models import Generator"
   ]
  },
  {
   "cell_type": "code",
   "execution_count": 8,
   "metadata": {},
   "outputs": [],
   "source": [
    "tokenizer = get_tokenizer(\"poems.txt\", 1024, \"tokenizer/en\", True)"
   ]
  },
  {
   "cell_type": "code",
   "execution_count": 22,
   "metadata": {},
   "outputs": [],
   "source": [
    "BLOCK_SIZE = 32\n",
    "BATCH_SIZE = 64\n",
    "EMBEDDING_SIZE = 256\n",
    "TRAIN_FILE = \"datasets/train.txt\"\n",
    "TEST_FILE = \"datasets/test.txt\"\n",
    "train_data = tokenizer.encode(open(TRAIN_FILE, encoding=\"utf-8\").read())\n",
    "test_data = tokenizer.encode(open(TEST_FILE, encoding=\"utf-8\").read())"
   ]
  },
  {
   "cell_type": "code",
   "execution_count": 28,
   "metadata": {},
   "outputs": [],
   "source": [
    "def get_batch(split):\n",
    "    data = train_data if split == \"train\" else test_data\n",
    "    idxs = torch.randint(len(data) - BLOCK_SIZE, (BATCH_SIZE, ))\n",
    "    X = torch.stack([torch.tensor(data[idx: idx + BLOCK_SIZE], device=device) for idx in idxs])\n",
    "    Y = torch.stack([torch.tensor(data[idx + 1: idx + 1 + BLOCK_SIZE], device=device) for idx in idxs])\n",
    "    return X, Y"
   ]
  },
  {
   "cell_type": "code",
   "execution_count": 36,
   "metadata": {},
   "outputs": [
    {
     "name": "stdout",
     "output_type": "stream",
     "text": [
      "[115, 511, 44, 431, 470, 115, 444, 406, 101, 418, 33, 10, 317, 261, 357, 647, 116, 116, 321, 386, 44, 432, 101, 103, 103, 292, 44, 470, 367, 44, 288, 258]\n",
      "[511, 44, 431, 470, 115, 444, 406, 101, 418, 33, 10, 317, 261, 357, 647, 116, 116, 321, 386, 44, 432, 101, 103, 103, 292, 44, 470, 367, 44, 288, 258, 39]\n"
     ]
    }
   ],
   "source": [
    "x, y = get_batch(\"train\")\n",
    "print(x[0].tolist())\n",
    "print(y[0].tolist())"
   ]
  }
 ],
 "metadata": {
  "kernelspec": {
   "display_name": "Python 3",
   "language": "python",
   "name": "python3"
  },
  "language_info": {
   "codemirror_mode": {
    "name": "ipython",
    "version": 3
   },
   "file_extension": ".py",
   "mimetype": "text/x-python",
   "name": "python",
   "nbconvert_exporter": "python",
   "pygments_lexer": "ipython3",
   "version": "3.10.12"
  }
 },
 "nbformat": 4,
 "nbformat_minor": 2
}
