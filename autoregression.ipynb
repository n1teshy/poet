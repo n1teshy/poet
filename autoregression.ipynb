{
 "cells": [
  {
   "cell_type": "code",
   "execution_count": null,
   "metadata": {},
   "outputs": [],
   "source": [
    "import os\n",
    "import platform\n",
    "\n",
    "if not os.path.exists(\"./datasets.zip\"):\n",
    "    print(\"upload datasets\")\n",
    "elif platform.system() == \"Windows\":\n",
    "    os.system(\"git clone https://github.com/n1teshy/poet & move poet/tokenizer . & move poet/core . & rd /s /q poet\")\n",
    "    os.system(\"powershell Expand-Archive -Path ./datasets -DestinationPath .\")\n",
    "else:\n",
    "    os.system(\"git clone https://github.com/n1teshy/poet && mv poet/tokenizer . && mv poet/core . && rm -rf poet\")\n",
    "    os.system(\"unzip ./datasets -d .\")"
   ]
  },
  {
   "cell_type": "code",
   "execution_count": 1,
   "metadata": {},
   "outputs": [],
   "source": [
    "import torch\n",
    "\n",
    "import torch.nn.functional as F\n",
    "from torch.optim import AdamW\n",
    "from core.tokenizers.regex import get_tokenizer\n",
    "from core.utils import get_param_count\n",
    "from core.config import device\n",
    "from core.models import Generator"
   ]
  },
  {
   "cell_type": "code",
   "execution_count": 2,
   "metadata": {},
   "outputs": [],
   "source": [
    "BLOCK_SIZE = 32\n",
    "BATCH_SIZE = 64\n",
    "EPOCHS = 10\n",
    "EMBEDDING_SIZE = 256\n",
    "LAYERS = 1\n",
    "HEADS = 32\n",
    "TRAIN_FILE = \"datasets/train.txt\"\n",
    "TEST_FILE = \"datasets/test.txt\""
   ]
  },
  {
   "cell_type": "code",
   "execution_count": 5,
   "metadata": {},
   "outputs": [],
   "source": [
    "tokenizer = get_tokenizer(\"poems.txt\", 1024, \"tokenizer/en\", True)\n",
    "train_data = tokenizer.encode(open(TRAIN_FILE, encoding=\"utf-8\").read())\n",
    "test_data = tokenizer.encode(open(TEST_FILE, encoding=\"utf-8\").read())"
   ]
  },
  {
   "cell_type": "code",
   "execution_count": 17,
   "metadata": {},
   "outputs": [],
   "source": [
    "def get_batch(split):\n",
    "    data = train_data if split == \"train\" else test_data\n",
    "    idxs = torch.randint(len(data) - BLOCK_SIZE, (BATCH_SIZE, ))\n",
    "    X = [data[idx: idx + BLOCK_SIZE] for idx in idxs]\n",
    "    Y = [data[idx + 1: idx + 1 + BLOCK_SIZE] for idx in idxs]\n",
    "    return torch.tensor(X, device=device), torch.tensor(Y, device=device)"
   ]
  },
  {
   "cell_type": "code",
   "execution_count": null,
   "metadata": {},
   "outputs": [],
   "source": [
    "model = Generator(tokenizer.size, EMBEDDING_SIZE, BLOCK_SIZE, LAYERS, HEADS)\n",
    "print(\"%.4f mn parameters\" % (get_param_count(model) / 1e6, ))"
   ]
  },
  {
   "cell_type": "code",
   "execution_count": 28,
   "metadata": {},
   "outputs": [],
   "source": [
    "@torch.no_grad()\n",
    "def get_test_loss():\n",
    "    model.eval()\n",
    "    inp, tgt = get_batch(\"test\")\n",
    "    logits = model(inp)\n",
    "    B, T, C = logits.shape\n",
    "    logits, tgt = logits.reshape(B*T, C), tgt.reshape(B*T)\n",
    "    loss = F.cross_entropy(logits, tgt)\n",
    "    model.train()\n",
    "    return loss\n"
   ]
  },
  {
   "cell_type": "code",
   "execution_count": 18,
   "metadata": {},
   "outputs": [],
   "source": [
    "def batch_generator(split):\n",
    "    while True:\n",
    "        yield get_batch(split)"
   ]
  },
  {
   "cell_type": "code",
   "execution_count": 36,
   "metadata": {},
   "outputs": [],
   "source": [
    "optimizer = AdamW(model.parameters(), lr=0.001)"
   ]
  },
  {
   "cell_type": "code",
   "execution_count": 37,
   "metadata": {},
   "outputs": [],
   "source": [
    "mean_train_loss, mean_test_loss = 0, 0\n",
    "batch_to_epoch = len(train_data) / BATCH_SIZE"
   ]
  },
  {
   "cell_type": "code",
   "execution_count": null,
   "metadata": {},
   "outputs": [],
   "source": [
    "for batch_no, (inp, tgt) in enumerate(batch_generator(\"train\"), start=1):\n",
    "    optimizer.zero_grad()\n",
    "    logits = model(inp)\n",
    "    B, T, C = logits.shape\n",
    "    logits, tgt = logits.reshape(B * T, C), tgt.reshape(B * T)\n",
    "    train_loss = F.cross_entropy(logits, tgt)\n",
    "    train_loss.backward()\n",
    "    optimizer.step()\n",
    "    test_loss = get_test_loss()\n",
    "    train_loss, test_loss = train_loss.item(), test_loss.item()\n",
    "    mean_train_loss = (mean_train_loss or train_loss) * 0.99 + train_loss * 0.01\n",
    "    mean_test_loss = (mean_test_loss or test_loss) * 0.99 + test_loss * 0.01\n",
    "    print(\n",
    "        \"%d:%d -> (%.4f | %.4f), (%.4f | %.4f)\"\n",
    "        % (\n",
    "            batch_no // batch_to_epoch + 1,\n",
    "            batch_no % batch_to_epoch,\n",
    "            train_loss,\n",
    "            mean_train_loss,\n",
    "            test_loss,\n",
    "            mean_test_loss,\n",
    "        )\n",
    "    )\n",
    "    \n"
   ]
  }
 ],
 "metadata": {
  "kernelspec": {
   "display_name": "Python 3",
   "language": "python",
   "name": "python3"
  },
  "language_info": {
   "codemirror_mode": {
    "name": "ipython",
    "version": 3
   },
   "file_extension": ".py",
   "mimetype": "text/x-python",
   "name": "python",
   "nbconvert_exporter": "python",
   "pygments_lexer": "ipython3",
   "version": "3.11.4"
  }
 },
 "nbformat": 4,
 "nbformat_minor": 2
}
